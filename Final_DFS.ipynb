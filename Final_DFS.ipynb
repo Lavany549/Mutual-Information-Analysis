{
  "cells": [
    {
      "cell_type": "code",
      "execution_count": null,
      "metadata": {
        "id": "a817f5e3"
      },
      "outputs": [],
      "source": [
        "import random\n",
        "import math\n",
        "import numpy as np"
      ],
      "id": "a817f5e3"
    },
    {
      "cell_type": "code",
      "execution_count": 1,
      "metadata": {
        "colab": {
          "base_uri": "https://localhost:8080/"
        },
        "id": "0NyL2KJYhuBO",
        "outputId": "014b1f49-3e1b-4f88-de8b-ff9fdc93d8e9"
      },
      "outputs": [
        {
          "output_type": "stream",
          "name": "stdout",
          "text": [
            "Mounted at /content/drive\n"
          ]
        }
      ],
      "source": [
        "from google.colab import drive\n",
        "drive.mount('/content/drive')"
      ],
      "id": "0NyL2KJYhuBO"
    },
    {
      "cell_type": "code",
      "execution_count": 2,
      "metadata": {
        "id": "lpRyVd-wsec8"
      },
      "outputs": [],
      "source": [
        "import csv\n",
        "import matplotlib.pyplot as plt\n",
        "import math\n",
        "import matplotlib.ticker as ticker\n",
        "import random\n",
        "import numpy as np\n",
        "import pandas as pd\n",
        "\n",
        "df = pd.read_csv('/content/drive/MyDrive/Notes/AES_Power_Trace.csv')\n",
        "ntrace=8938\n",
        "df=df.to_numpy() \n",
        "df=df[:,:-1]\n",
        "O=df[:, 722]\n",
        "#Getting the plaintext part\n",
        "plaintexts=df[:,0]\n",
        "#Getting Ciphertext part\n",
        "ciphertexts=df[:,1]\n",
        "\n",
        "#changing every 2 bytes from hexadecimal to decimal\n",
        "x=(np.array([int(l[0:2], base=16) for l in ciphertexts]))\n"
      ],
      "id": "lpRyVd-wsec8"
    },
    {
      "cell_type": "code",
      "execution_count": 3,
      "metadata": {
        "colab": {
          "base_uri": "https://localhost:8080/"
        },
        "id": "oulKLGLSsl02",
        "outputId": "759ac1a5-c832-4d65-e331-f08bd83e2183"
      },
      "outputs": [
        {
          "output_type": "stream",
          "name": "stdout",
          "text": [
            "L (8938, 256)\n",
            "2097.7108372114694\n"
          ]
        }
      ],
      "source": [
        "def sbox_simple_op(x,key):\n",
        "    sbox = (\n",
        "            0x63, 0x7C, 0x77, 0x7B, 0xF2, 0x6B, 0x6F, 0xC5, 0x30, 0x01, 0x67, 0x2B, 0xFE, 0xD7, 0xAB, 0x76,\n",
        "            0xCA, 0x82, 0xC9, 0x7D, 0xFA, 0x59, 0x47, 0xF0, 0xAD, 0xD4, 0xA2, 0xAF, 0x9C, 0xA4, 0x72, 0xC0,\n",
        "            0xB7, 0xFD, 0x93, 0x26, 0x36, 0x3F, 0xF7, 0xCC, 0x34, 0xA5, 0xE5, 0xF1, 0x71, 0xD8, 0x31, 0x15,\n",
        "            0x04, 0xC7, 0x23, 0xC3, 0x18, 0x96, 0x05, 0x9A, 0x07, 0x12, 0x80, 0xE2, 0xEB, 0x27, 0xB2, 0x75,\n",
        "            0x09, 0x83, 0x2C, 0x1A, 0x1B, 0x6E, 0x5A, 0xA0, 0x52, 0x3B, 0xD6, 0xB3, 0x29, 0xE3, 0x2F, 0x84,\n",
        "            0x53, 0xD1, 0x00, 0xED, 0x20, 0xFC, 0xB1, 0x5B, 0x6A, 0xCB, 0xBE, 0x39, 0x4A, 0x4C, 0x58, 0xCF,\n",
        "            0xD0, 0xEF, 0xAA, 0xFB, 0x43, 0x4D, 0x33, 0x85, 0x45, 0xF9, 0x02, 0x7F, 0x50, 0x3C, 0x9F, 0xA8,\n",
        "            0x51, 0xA3, 0x40, 0x8F, 0x92, 0x9D, 0x38, 0xF5, 0xBC, 0xB6, 0xDA, 0x21, 0x10, 0xFF, 0xF3, 0xD2,\n",
        "            0xCD, 0x0C, 0x13, 0xEC, 0x5F, 0x97, 0x44, 0x17, 0xC4, 0xA7, 0x7E, 0x3D, 0x64, 0x5D, 0x19, 0x73,\n",
        "            0x60, 0x81, 0x4F, 0xDC, 0x22, 0x2A, 0x90, 0x88, 0x46, 0xEE, 0xB8, 0x14, 0xDE, 0x5E, 0x0B, 0xDB,\n",
        "            0xE0, 0x32, 0x3A, 0x0A, 0x49, 0x06, 0x24, 0x5C, 0xC2, 0xD3, 0xAC, 0x62, 0x91, 0x95, 0xE4, 0x79,\n",
        "            0xE7, 0xC8, 0x37, 0x6D, 0x8D, 0xD5, 0x4E, 0xA9, 0x6C, 0x56, 0xF4, 0xEA, 0x65, 0x7A, 0xAE, 0x08,\n",
        "            0xBA, 0x78, 0x25, 0x2E, 0x1C, 0xA6, 0xB4, 0xC6, 0xE8, 0xDD, 0x74, 0x1F, 0x4B, 0xBD, 0x8B, 0x8A,\n",
        "            0x70, 0x3E, 0xB5, 0x66, 0x48, 0x03, 0xF6, 0x0E, 0x61, 0x35, 0x57, 0xB9, 0x86, 0xC1, 0x1D, 0x9E,\n",
        "            0xE1, 0xF8, 0x98, 0x11, 0x69, 0xD9, 0x8E, 0x94, 0x9B, 0x1E, 0x87, 0xE9, 0xCE, 0x55, 0x28, 0xDF,\n",
        "            0x8C, 0xA1, 0x89, 0x0D, 0xBF, 0xE6, 0x42, 0x68, 0x41, 0x99, 0x2D, 0x0F, 0xB0, 0x54, 0xBB, 0x16 \n",
        "            )\n",
        "    \n",
        "        \n",
        "    return (sbox[x^key] ^ x) & 15;\n",
        "\n",
        "L = []\n",
        "\n",
        "for i in range(ntrace):\n",
        "        pt = x[i]        \n",
        "        lt = [0]*256\n",
        "        #print \"Processing Trace: \"+str(i)\n",
        "        \n",
        "        for j in range(256):\n",
        "            b=sbox_simple_op(pt,j)\n",
        "            lt[j] = b\n",
        "        L.append(np.array(lt))\n",
        "L=np.array(L)\n",
        "print(\"L\",L.shape)\n",
        "O_dist = [0]*ntrace\n",
        "\n",
        "ocount = 0;\n",
        "\n",
        "for o in range(len(O)):\n",
        "    O_dist[o]=np.count_nonzero(O == O[o])/float(ntrace)\n",
        "\n",
        "Ent_O = 0.0\n",
        "\n",
        "\n",
        "for p in O_dist:\n",
        "    Ent_O = Ent_O - (p*math.log(p))\n",
        "print(Ent_O)\n",
        "Ent_Kb = [0.0]*256\n"
      ],
      "id": "oulKLGLSsl02"
    },
    {
      "cell_type": "code",
      "execution_count": null,
      "metadata": {
        "colab": {
          "background_save": true,
          "base_uri": "https://localhost:8080/"
        },
        "id": "GB0ZcjvDs7Sf",
        "outputId": "f0e03917-b4a7-45c7-e947-bd7c23991542"
      },
      "outputs": [
        {
          "output_type": "stream",
          "name": "stdout",
          "text": [
            "Processing Key Byte: 0\n",
            "Processing Key Byte: 1\n",
            "Processing Key Byte: 2\n",
            "Processing Key Byte: 3\n",
            "Processing Key Byte: 4\n",
            "Processing Key Byte: 5\n",
            "Processing Key Byte: 6\n",
            "Processing Key Byte: 7\n",
            "Processing Key Byte: 8\n",
            "Processing Key Byte: 9\n",
            "Processing Key Byte: 10\n",
            "Processing Key Byte: 11\n",
            "Processing Key Byte: 12\n",
            "Processing Key Byte: 13\n",
            "Processing Key Byte: 14\n",
            "Processing Key Byte: 15\n",
            "Processing Key Byte: 16\n",
            "Processing Key Byte: 17\n",
            "Processing Key Byte: 18\n",
            "Processing Key Byte: 19\n",
            "Processing Key Byte: 20\n",
            "Processing Key Byte: 21\n",
            "Processing Key Byte: 22\n",
            "Processing Key Byte: 23\n",
            "Processing Key Byte: 24\n",
            "Processing Key Byte: 25\n",
            "Processing Key Byte: 26\n",
            "Processing Key Byte: 27\n",
            "Processing Key Byte: 28\n",
            "Processing Key Byte: 29\n",
            "Processing Key Byte: 30\n",
            "Processing Key Byte: 31\n",
            "Processing Key Byte: 32\n",
            "Processing Key Byte: 33\n",
            "Processing Key Byte: 34\n",
            "Processing Key Byte: 35\n",
            "Processing Key Byte: 36\n",
            "Processing Key Byte: 37\n",
            "Processing Key Byte: 38\n",
            "Processing Key Byte: 39\n",
            "Processing Key Byte: 40\n",
            "Processing Key Byte: 41\n",
            "Processing Key Byte: 42\n",
            "Processing Key Byte: 43\n",
            "Processing Key Byte: 44\n",
            "Processing Key Byte: 45\n",
            "Processing Key Byte: 46\n",
            "Processing Key Byte: 47\n",
            "Processing Key Byte: 48\n",
            "Processing Key Byte: 49\n",
            "Processing Key Byte: 50\n",
            "Processing Key Byte: 51\n",
            "Processing Key Byte: 52\n",
            "Processing Key Byte: 53\n",
            "Processing Key Byte: 54\n",
            "Processing Key Byte: 55\n",
            "Processing Key Byte: 56\n",
            "Processing Key Byte: 57\n",
            "Processing Key Byte: 58\n",
            "Processing Key Byte: 59\n",
            "Processing Key Byte: 60\n",
            "Processing Key Byte: 61\n",
            "Processing Key Byte: 62\n",
            "Processing Key Byte: 63\n",
            "Processing Key Byte: 64\n",
            "Processing Key Byte: 65\n",
            "Processing Key Byte: 66\n",
            "Processing Key Byte: 67\n",
            "Processing Key Byte: 68\n",
            "Processing Key Byte: 69\n",
            "Processing Key Byte: 70\n",
            "Processing Key Byte: 71\n",
            "Processing Key Byte: 72\n",
            "Processing Key Byte: 73\n",
            "Processing Key Byte: 74\n",
            "Processing Key Byte: 75\n",
            "Processing Key Byte: 76\n",
            "Processing Key Byte: 77\n",
            "Processing Key Byte: 78\n",
            "Processing Key Byte: 79\n",
            "Processing Key Byte: 80\n",
            "Processing Key Byte: 81\n",
            "Processing Key Byte: 82\n",
            "Processing Key Byte: 83\n",
            "Processing Key Byte: 84\n",
            "Processing Key Byte: 85\n",
            "Processing Key Byte: 86\n",
            "Processing Key Byte: 87\n",
            "Processing Key Byte: 88\n",
            "Processing Key Byte: 89\n",
            "Processing Key Byte: 90\n",
            "Processing Key Byte: 91\n",
            "Processing Key Byte: 92\n",
            "Processing Key Byte: 93\n",
            "Processing Key Byte: 94\n",
            "Processing Key Byte: 95\n",
            "Processing Key Byte: 96\n",
            "Processing Key Byte: 97\n",
            "Processing Key Byte: 98\n",
            "Processing Key Byte: 99\n",
            "Processing Key Byte: 100\n",
            "Processing Key Byte: 101\n",
            "Processing Key Byte: 102\n"
          ]
        }
      ],
      "source": [
        "for kb in range(256):\n",
        "    Prob_HOL = 0.0\n",
        "    Li_dist = [0.0]*16\n",
        "\n",
        "    for i in range(16):\n",
        "        Li_dist[i]=(np.count_nonzero(L[:,kb] == i))/ntrace\n",
        "\n",
        "    print (\"Processing Key Byte: \"+str(kb))\n",
        "    for ival in range(16):\n",
        "        temp_L_i_Oxj = [0.0]*ntrace\n",
        "        temp_L_i = [0.0]*ntrace\n",
        "        temp_P_l = [0.0]*ntrace\n",
        "\n",
        "\n",
        "        for i in range(ntrace):\n",
        "            temp_L_i[i]=np.count_nonzero(L[:,kb] == ival)\n",
        "            temp_indices=np.where(L[:,kb] == ival)[0]\n",
        "            for j in temp_indices:\n",
        "                if(O[i]==O[j]):\n",
        "                    temp_L_i_Oxj[i] = temp_L_i_Oxj[i]+1\n",
        "            if(temp_L_i[i]!=0):\n",
        "                temp_P_l[i] = float(temp_L_i_Oxj[i])/temp_L_i[i]\n",
        "            \n",
        "            \n",
        "        Sum_P_Oxj = 0.0\n",
        "            \n",
        "        for p in temp_P_l:\n",
        "            if(p!=0):\n",
        "                Sum_P_Oxj = Sum_P_Oxj - p*math.log(p)\n",
        "                \n",
        "        Prob_HOL = Prob_HOL + (Li_dist[ival]*Sum_P_Oxj)\n",
        "            \n",
        "    Ent_Kb[kb] = Ent_O - Prob_HOL\n",
        "print(Ent_Kb)\n",
        "print(hex(Ent_Kb.index(max(Ent_Kb))))\n"
      ],
      "id": "GB0ZcjvDs7Sf"
    }
  ],
  "metadata": {
    "colab": {
      "provenance": []
    },
    "kernelspec": {
      "display_name": "Python 3 (ipykernel)",
      "language": "python",
      "name": "python3"
    },
    "language_info": {
      "codemirror_mode": {
        "name": "ipython",
        "version": 3
      },
      "file_extension": ".py",
      "mimetype": "text/x-python",
      "name": "python",
      "nbconvert_exporter": "python",
      "pygments_lexer": "ipython3",
      "version": "3.10.9"
    }
  },
  "nbformat": 4,
  "nbformat_minor": 5
}